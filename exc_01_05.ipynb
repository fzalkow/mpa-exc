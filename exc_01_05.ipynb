{
 "cells": [
  {
   "cell_type": "markdown",
   "metadata": {},
   "source": [
    "# Exercise 1.5."
   ]
  },
  {
   "cell_type": "markdown",
   "metadata": {},
   "source": [
    "Using (1.1), compute the center frequencies for all notes of the C-major scale C4, D4, E4, F4, G4, A4, B4, C5 and for all notes of the C-minor scale C4, D4, Eb4, F4, G4, Ab4, Bb4, C5 (see also Figure 1.5)."
   ]
  },
  {
   "cell_type": "code",
   "execution_count": 10,
   "metadata": {
    "collapsed": true
   },
   "outputs": [],
   "source": [
    "from __future__ import division\n",
    "import numpy as np\n",
    "import matplotlib.pyplot as plt\n",
    "%matplotlib inline\n",
    "import bokeh.io\n",
    "import bokeh.mpl\n",
    "import bokeh.plotting"
   ]
  },
  {
   "cell_type": "markdown",
   "metadata": {},
   "source": [
    "Define center frequency for pitch A4 to be 440 Hz."
   ]
  },
  {
   "cell_type": "code",
   "execution_count": 11,
   "metadata": {
    "collapsed": false
   },
   "outputs": [
    {
     "name": "stdout",
     "output_type": "stream",
     "text": [
      "440.0\n"
     ]
    }
   ],
   "source": [
    "freq_A4 = 440\n",
    "freq_pitch = lambda p: freq_A4 * 2**((p-69)/12)\n",
    "print(freq_pitch(69))"
   ]
  },
  {
   "cell_type": "markdown",
   "metadata": {},
   "source": [
    "## Major Scale\n",
    "\n",
    "Defining a template for a major scale as an anonymous function.\n"
   ]
  },
  {
   "cell_type": "code",
   "execution_count": 12,
   "metadata": {
    "collapsed": true
   },
   "outputs": [],
   "source": [
    "template_scale_major = lambda start: np.array([start,\n",
    "                                               start+2,\n",
    "                                               start+4,\n",
    "                                               start+5,\n",
    "                                               start+7,\n",
    "                                               start+9,\n",
    "                                               start+11,\n",
    "                                               start+12])"
   ]
  },
  {
   "cell_type": "markdown",
   "metadata": {},
   "source": [
    "Calling the function with C4 as starting note."
   ]
  },
  {
   "cell_type": "code",
   "execution_count": 13,
   "metadata": {
    "collapsed": false
   },
   "outputs": [
    {
     "name": "stdout",
     "output_type": "stream",
     "text": [
      "[ 261.6255653   293.66476792  329.62755691  349.22823143  391.99543598\n",
      "  440.          493.88330126  523.2511306 ]\n"
     ]
    }
   ],
   "source": [
    "scale_c_maj = freq_pitch(template_scale_major(60))\n",
    "print(scale_c_maj)"
   ]
  },
  {
   "cell_type": "code",
   "execution_count": 14,
   "metadata": {
    "collapsed": false
   },
   "outputs": [
    {
     "data": {
      "text/plain": [
       "<matplotlib.text.Text at 0x10b012f90>"
      ]
     },
     "execution_count": 14,
     "metadata": {},
     "output_type": "execute_result"
    },
    {
     "data": {
      "image/png": "[encoded data removed]"
     },
     "metadata": {},
     "output_type": "display_data"
    }
   ],
   "source": [
    "plt.step(np.arange(len(scale_c_maj)), scale_c_maj, where='mid')\n",
    "plt.title('Major Scale')\n",
    "plt.xlabel('Scale Position')\n",
    "plt.ylabel('Frequency (Hz)')"
   ]
  },
  {
   "cell_type": "markdown",
   "metadata": {},
   "source": [
    "## Minor Scale\n",
    "\n",
    "Doing the same for a minor scale."
   ]
  },
  {
   "cell_type": "code",
   "execution_count": 15,
   "metadata": {
    "collapsed": true
   },
   "outputs": [],
   "source": [
    "template_scale_minor = lambda start: np.array([start,\n",
    "                                               start+2,\n",
    "                                               start+3,\n",
    "                                               start+5,\n",
    "                                               start+7,\n",
    "                                               start+8,\n",
    "                                               start+10,\n",
    "                                               start+12])"
   ]
  },
  {
   "cell_type": "code",
   "execution_count": 16,
   "metadata": {
    "collapsed": false
   },
   "outputs": [
    {
     "name": "stdout",
     "output_type": "stream",
     "text": [
      "[ 261.6255653   293.66476792  311.12698372  349.22823143  391.99543598\n",
      "  415.30469758  466.16376152  523.2511306 ]\n"
     ]
    }
   ],
   "source": [
    "scale_c_min = freq_pitch(template_scale_minor(60))\n",
    "print(scale_c_min)"
   ]
  },
  {
   "cell_type": "code",
   "execution_count": 17,
   "metadata": {
    "collapsed": false
   },
   "outputs": [
    {
     "data": {
      "text/plain": [
       "<matplotlib.text.Text at 0x10aef3990>"
      ]
     },
     "execution_count": 17,
     "metadata": {},
     "output_type": "execute_result"
    },
    {
     "data": {
      "image/png": "[encoded data removed]"
     },
     "metadata": {},
     "output_type": "display_data"
    }
   ],
   "source": [
    "plt.step(np.arange(len(scale_c_min)), scale_c_min, where='mid')\n",
    "plt.title('Minor Scale')\n",
    "plt.xlabel('Scale Position')\n",
    "plt.ylabel('Frequency (Hz)')"
   ]
  }
 ],
 "metadata": {
  "kernelspec": {
   "display_name": "Python 2",
   "language": "python",
   "name": "python2"
  },
  "language_info": {
   "codemirror_mode": {
    "name": "ipython",
    "version": 2
   },
   "file_extension": ".py",
   "mimetype": "text/x-python",
   "name": "python",
   "nbconvert_exporter": "python",
   "pygments_lexer": "ipython2",
   "version": "2.7.10"
  }
 },
 "nbformat": 4,
 "nbformat_minor": 0
}
