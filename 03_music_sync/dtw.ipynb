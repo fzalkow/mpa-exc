{
 "cells": [
  {
   "cell_type": "markdown",
   "metadata": {},
   "source": [
    "# Dynamic Time Warping"
   ]
  },
  {
   "cell_type": "markdown",
   "metadata": {},
   "source": [
    "<!--bibtex\n",
    "@book{Mueller15_FundamentalsMusicProcessig_SPRINGER,\n",
    "author    = {Meinard M\\\"{u}ller},\n",
    "title     = {Fundamentals of Music Processing -- Audio, Analysis, Algorithms, Applications},\n",
    "type      = {Monograph},\n",
    "year      = {2015},\n",
    "isbn      = {978-3-319-21944-8},\n",
    "publisher = {Springer Verlag}\n",
    "}\n",
    "-->\n",
    "\n",
    "This notebook is supposed to explain dynamic time warping to align two sequences.\n",
    "We consider an example from the book [](#cite-Mueller15_FundamentalsMusicProcessig_SPRINGER)"
   ]
  },
  {
   "cell_type": "code",
   "execution_count": 2,
   "metadata": {
    "collapsed": true
   },
   "outputs": [],
   "source": [
    "from __future__ import division\n",
    "import numpy as np\n",
    "import matplotlib.pyplot as plt\n",
    "%matplotlib inline\n",
    "from IPython import display\n",
    "import time"
   ]
  },
  {
   "cell_type": "markdown",
   "metadata": {},
   "source": [
    "Define input sequences $X = (x_1, x_2, \\ldots, x_N)$ and $Y = (y_1, y_2, \\ldots, y_M)$."
   ]
  },
  {
   "cell_type": "code",
   "execution_count": 3,
   "metadata": {
    "collapsed": false
   },
   "outputs": [],
   "source": [
    "X = np.array([[1], [3], [3], [8], [1]])\n",
    "Y = np.array([[2], [0], [0], [8], [7], [2]])"
   ]
  },
  {
   "cell_type": "markdown",
   "metadata": {},
   "source": [
    "$\\Sigma$ describes the possible step sizes."
   ]
  },
  {
   "cell_type": "code",
   "execution_count": 75,
   "metadata": {
    "collapsed": false
   },
   "outputs": [],
   "source": [
    "step_sizes_sigma = np.array([[1, 1], [0, 1], [1, 0]])\n",
    "# step_sizes_sigma = np.array([[1, 1], [1, 2], [2, 1]])\n",
    "step_weights = np.array([1, 1, 1])"
   ]
  },
  {
   "cell_type": "markdown",
   "metadata": {},
   "source": [
    "## Cost Matrix $C$"
   ]
  },
  {
   "cell_type": "markdown",
   "metadata": {},
   "source": [
    "Calculate the cost matrix $C \\in \\mathbb{R}^{N \\times M}$ by a pairwise comparison of the elements of $X$ and $Y\n",
    "with respect to a given cost function. For this example we use the euclidean distance of the elements."
   ]
  },
  {
   "cell_type": "code",
   "execution_count": 76,
   "metadata": {
    "collapsed": false
   },
   "outputs": [
    {
     "data": {
      "image/png": "[encoded data removed]",
      "text/plain": [
       "<matplotlib.figure.Figure at 0x114e4a550>"
      ]
     },
     "metadata": {},
     "output_type": "display_data"
    }
   ],
   "source": [
    "from scipy.spatial.distance import cdist\n",
    "C = cdist(X, Y, 'euclidean')\n",
    "plt.imshow(C, cmap=plt.get_cmap('gray_r'),\n",
    "           origin='lower', interpolation='nearest', aspect='auto')\n",
    "plt.ylabel('$X$')\n",
    "plt.xlabel('$Y$')\n",
    "cbar = plt.colorbar()\n",
    "cbar.ax.set_ylabel('Cost')\n",
    "plt.title('Cost Matrix $C$')\n",
    "\n",
    "# add numbers to the plot\n",
    "for x in xrange(C.shape[0]):\n",
    "    for y in xrange(C.shape[1]):\n",
    "        plt.annotate(str(C[x][y]), xy=(y, x), \n",
    "                     horizontalalignment='center',\n",
    "                     verticalalignment='center', color='red')"
   ]
  },
  {
   "cell_type": "markdown",
   "metadata": {},
   "source": [
    "## Accumulated Cost Matrix $D$"
   ]
  },
  {
   "cell_type": "markdown",
   "metadata": {},
   "source": [
    "### Initialization"
   ]
  },
  {
   "cell_type": "markdown",
   "metadata": {},
   "source": [
    "The accumulated cost matrix $D \\in \\mathbb{R}^{N \\times M}$ is initialized as described in the book.\n",
    "We use the trick of infinity-value rows and columns to make life easier."
   ]
  },
  {
   "cell_type": "code",
   "execution_count": 77,
   "metadata": {
    "collapsed": false,
    "scrolled": false
   },
   "outputs": [
    {
     "data": {
      "image/png": "[encoded data removed]",
      "text/plain": [
       "<matplotlib.figure.Figure at 0x114f575d0>"
      ]
     },
     "metadata": {},
     "output_type": "display_data"
    }
   ],
   "source": [
    "max_0 = step_sizes_sigma.max(axis=0).max()\n",
    "max_1 = step_sizes_sigma.max(axis=1).max()\n",
    "\n",
    "# initalize whole matrix with infinity values\n",
    "D = np.ones(C.shape + np.array([max_0, max_1])) * np.inf\n",
    "\n",
    "# set starting point to C[0, 0]\n",
    "D[max_0, max_1] = C[0, 0]\n",
    "    \n",
    "plt.imshow(D, cmap=plt.get_cmap('gray_r'),\n",
    "           origin='lower', interpolation='nearest', aspect='auto')\n",
    "plt.ylabel('$n$')\n",
    "plt.xlabel('$m$')\n",
    "plt.title('Accumulated Cost Matrix $D$')\n",
    "\n",
    "# add numbers to the plot\n",
    "for x in xrange(D.shape[0]):\n",
    "    for y in xrange(D.shape[1]):\n",
    "        plt.annotate(str(D[x][y]), xy=(y, x), \n",
    "                     horizontalalignment='center',\n",
    "                     verticalalignment='center', color='red')"
   ]
  },
  {
   "cell_type": "markdown",
   "metadata": {},
   "source": [
    "### Iteration"
   ]
  },
  {
   "cell_type": "markdown",
   "metadata": {},
   "source": [
    "Now, we iterate over $D$ to fill the remaining elements."
   ]
  },
  {
   "cell_type": "code",
   "execution_count": 78,
   "metadata": {
    "collapsed": false
   },
   "outputs": [
    {
     "data": {
      "image/png": "[encoded data removed]",
      "text/plain": [
       "<matplotlib.figure.Figure at 0x1144837d0>"
      ]
     },
     "metadata": {},
     "output_type": "display_data"
    }
   ],
   "source": [
    "fig = plt.figure()\n",
    "ax = fig.add_subplot(111)\n",
    "\n",
    "imax = ax.imshow(D, cmap=plt.get_cmap('gray_r'),\n",
    "                 origin='lower', interpolation='nearest', aspect='auto')\n",
    "plt.ylabel('$n$')\n",
    "plt.xlabel('$m$')\n",
    "ax.set_title('Accumulated Cost Matrix $D$')\n",
    "\n",
    "# add numbers numbers to the plot\n",
    "annotations = []\n",
    "for x in xrange(D.shape[0]):\n",
    "    for y in xrange(D.shape[1]):\n",
    "        plt.annotate(str(D[x][y]), xy=(y, x), \n",
    "                     horizontalalignment='center',\n",
    "                     verticalalignment='center', color='red')\n",
    "\n",
    "for n in np.arange(max_0, D.shape[0]):\n",
    "    for m in np.arange(max_1, D.shape[1]):\n",
    "        # loop over possible step sizes\n",
    "        for cur_weight_idx, cur_step_size in enumerate(step_sizes_sigma):\n",
    "            cur_cost = D[n-cur_step_size[0], m-cur_step_size[1]]\n",
    "            cur_cost += step_weights[cur_weight_idx] * C[n-max_0, m-max_1]\n",
    "\n",
    "            D[n, m] = np.min(np.array([cur_cost, D[n, m]]))\n",
    "        \n",
    "        imax = ax.imshow(D, cmap=plt.get_cmap('gray_r'),\n",
    "                         origin='lower', interpolation='nearest', aspect='auto')\n",
    "    \n",
    "        # redraw annotations numbers to the plot\n",
    "        del ax.texts[:]\n",
    "        \n",
    "        for x in xrange(D.shape[0]):\n",
    "            for y in xrange(D.shape[1]):\n",
    "                if (x == n and y == m):\n",
    "                    cur_color = 'blue'\n",
    "                else:\n",
    "                    cur_color = 'red'\n",
    "\n",
    "                plt.annotate(str(D[x][y]), xy=(y, x), \n",
    "                             horizontalalignment='center',\n",
    "                             verticalalignment='center', color=cur_color)\n",
    "\n",
    "        display.display(plt.gcf())\n",
    "        display.clear_output(wait=True)\n",
    "        # time.sleep(0.5)"
   ]
  },
  {
   "cell_type": "markdown",
   "metadata": {},
   "source": [
    "## Warping Path $p$"
   ]
  },
  {
   "cell_type": "markdown",
   "metadata": {},
   "source": [
    "To retrieve a warping path $p \\in (p_1, \\ldots, p_L)$ with\n",
    "$p_l = (n_l, m_l) \\in [1:N] \\times [1:M]$ for $l \\in [1:L]$,\n",
    "we perform a backtracking through $D$."
   ]
  },
  {
   "cell_type": "code",
   "execution_count": 79,
   "metadata": {
    "collapsed": false
   },
   "outputs": [],
   "source": [
    "p = []\n",
    "\n",
    "# Set starting point D(N,M) and append it to path\n",
    "cur_idx = (D.shape[0]-1, D.shape[1]-1)\n",
    "p.append(cur_idx)\n",
    "\n",
    "while True:\n",
    "    n = cur_idx[0]\n",
    "    m = cur_idx[1]\n",
    "    \n",
    "    # look up neighborhood\n",
    "    cur_idxs = []\n",
    "    cur_minima = []\n",
    "    for cur_step_size in step_sizes_sigma:\n",
    "        n_next = n-cur_step_size[0]\n",
    "        m_next = m-cur_step_size[1]\n",
    "        cur_minima.append(D[n_next, m_next])\n",
    "        cur_idxs.append((n_next, m_next))\n",
    "\n",
    "    # save tuple with minimal acc. cost in path\n",
    "    cur_idx = cur_idxs[np.argmin(cur_minima)]\n",
    "    p.append(cur_idx)\n",
    "\n",
    "    if cur_idx == (max_0, max_1):\n",
    "        break\n",
    "\n",
    "# reverse path\n",
    "p = p[::-1]"
   ]
  },
  {
   "cell_type": "markdown",
   "metadata": {},
   "source": [
    "### Visualization"
   ]
  },
  {
   "cell_type": "markdown",
   "metadata": {},
   "source": [
    "First, we need to delete the inifinity value rows and columns and modify the warping path accordingly."
   ]
  },
  {
   "cell_type": "code",
   "execution_count": 80,
   "metadata": {
    "collapsed": false
   },
   "outputs": [
    {
     "data": {
      "text/plain": [
       "<matplotlib.text.Text at 0x115f3f610>"
      ]
     },
     "execution_count": 80,
     "metadata": {},
     "output_type": "execute_result"
    },
    {
     "data": {
      "image/png": "[encoded data removed]",
      "text/plain": [
       "<matplotlib.figure.Figure at 0x114f576d0>"
      ]
     },
     "metadata": {},
     "output_type": "display_data"
    }
   ],
   "source": [
    "D_adj = D[max_0:, max_1:]\n",
    "p_adj = [(cur_item[0]-max_0, cur_item[1]-max_1) for cur_item in p]\n",
    "\n",
    "fig = plt.figure()\n",
    "ax = fig.add_subplot(111)\n",
    "imax = ax.imshow(C, cmap=plt.get_cmap('gray_r'),\n",
    "                 origin='lower', interpolation='nearest', aspect='auto')\n",
    "\n",
    "x_val = [x[1] for x in p_adj]\n",
    "y_val = [x[0] for x in p_adj]\n",
    "ax.plot(x_val, y_val, marker='o', color='r')\n",
    "ax.autoscale(tight=True)\n",
    "plt.ylabel('$X$')\n",
    "plt.xlabel('$Y$')\n",
    "cbar = fig.colorbar(imax)\n",
    "cbar.ax.set_ylabel('Cost')\n",
    "ax.set_title('Cost Matrix $C$ with an optimal warping path')"
   ]
  },
  {
   "cell_type": "code",
   "execution_count": null,
   "metadata": {
    "collapsed": true
   },
   "outputs": [],
   "source": []
  }
 ],
 "metadata": {
  "kernelspec": {
   "display_name": "Python 2",
   "language": "python",
   "name": "python2"
  },
  "language_info": {
   "codemirror_mode": {
    "name": "ipython",
    "version": 2
   },
   "file_extension": ".py",
   "mimetype": "text/x-python",
   "name": "python",
   "nbconvert_exporter": "python",
   "pygments_lexer": "ipython2",
   "version": "2.7.10"
  }
 },
 "nbformat": 4,
 "nbformat_minor": 0
}
