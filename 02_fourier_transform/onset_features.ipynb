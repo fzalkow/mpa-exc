{
 "cells": [
  {
   "cell_type": "markdown",
   "metadata": {},
   "source": [
    "# Pitch Onset Features\n",
    "\n",
    "In the following we always assume a sample rate of 22050.\n",
    "\n",
    "Imports:"
   ]
  },
  {
   "cell_type": "code",
   "execution_count": 1,
   "metadata": {
    "collapsed": true
   },
   "outputs": [],
   "source": [
    "import librosa\n",
    "import numpy as np\n",
    "import scipy.signal\n",
    "import matplotlib.pyplot as plt\n",
    "import time\n",
    "from IPython import display\n",
    "\n",
    "%matplotlib inline"
   ]
  },
  {
   "cell_type": "markdown",
   "metadata": {},
   "source": [
    "For being compareable with Matlab we need a special peak picking function..."
   ]
  },
  {
   "cell_type": "code",
   "execution_count": 2,
   "metadata": {
    "collapsed": true
   },
   "outputs": [],
   "source": [
    "def peaks(W, direction, abs_thresh):\n",
    "    rel_thresh = 0.5 * np.repeat(np.sqrt(np.var(W)), len(W))\n",
    "    descent_thresh = 0.5 * rel_thresh\n",
    "    tmin, tmax = 0, len(W)\n",
    "    \n",
    "    dyold = 0\n",
    "    dy = 0\n",
    "    rise = 0               # current amount of ascent during a rising portion of the signal W\n",
    "    riseold = 0            # accumulated amount of ascent from the last rising portion of W\n",
    "    descent = 0            # current amount of descent (<0) during a falling portion of the signal W\n",
    "    searching_peak = True\n",
    "    candidate = 0\n",
    "    P = []\n",
    "    \n",
    "    if direction == 1:\n",
    "        this_range = np.arange(tmin, tmax-2)\n",
    "    elif direction == -1:\n",
    "        this_range = np.arange(tmax, tmin, -1)\n",
    "        \n",
    "    for i in this_range:\n",
    "        dy = W[i+direction] - W[i]\n",
    "        if dy >= 0:\n",
    "            rise = rise + dy\n",
    "        else:\n",
    "            descent = descent + dy\n",
    "            \n",
    "        if dyold >= 0:\n",
    "            if dy < 0: # slope change positive->negative\n",
    "                if (rise >= rel_thresh[i]) and searching_peak:\n",
    "                    candidate = i\n",
    "                    searching_peak = False\n",
    "                riseold = rise\n",
    "                rise = 0\n",
    "        # dyold < 0\n",
    "        else:\n",
    "            if dy < 0: # in descent\n",
    "                if (descent <= -rel_thresh[candidate]) and not searching_peak:\n",
    "                    if (W[candidate] >= abs_thresh[candidate]):\n",
    "                        P.append(candidate)     # verified candidate as true peak\n",
    "                    searching_peak = True\n",
    "            else: # dy >= 0 slope change negative->positive\n",
    "                if not searching_peak: # currently verifying a peak\n",
    "                    if W[candidate] - W[i] <= descent_thresh[i]:\n",
    "                        rise = riseold + descent # skip intermediary peak\n",
    "                    if descent <= -rel_thresh[candidate]:\n",
    "                        if W[candidate] >= abs_thresh[candidate]:\n",
    "                            P.append(candidate)     # verified candidate as true peak\n",
    "                    searching_peak = True\n",
    "                descent = 0\n",
    "        dyold = dy\n",
    "        \n",
    "    return np.array(P)"
   ]
  },
  {
   "cell_type": "markdown",
   "metadata": {},
   "source": [
    "Compute filter coefficients the same way as in `stft_log_frequency_pitch_filterbank.ipynb`:"
   ]
  },
  {
   "cell_type": "code",
   "execution_count": 3,
   "metadata": {
    "collapsed": false
   },
   "outputs": [],
   "source": [
    "midi_min, midi_max = 20, 107 # midi range to be considered\n",
    "\n",
    "midi_pitches = np.arange(midi_min, midi_max+1)\n",
    "center_freqs = librosa.core.midi_to_hz(midi_pitches)\n",
    "\n",
    "fs_pitch = np.zeros(128) # sample rates per midi putch\n",
    "fs_pitch[20:59] = 882\n",
    "fs_pitch[59:95] = 4410\n",
    "fs_pitch[95:120] = 22050\n",
    "\n",
    "midi_pitches = np.arange(128) # midi pitches and center frequencies\n",
    "center_freqs = librosa.core.midi_to_hz(midi_pitches)\n",
    "\n",
    "# filter specifications\n",
    "passband_ripple = 1 # in dB\n",
    "stopband_attenuation = 50 # in dB\n",
    "Q = 25\n",
    "nyquist = fs_pitch / 2\n",
    "filter_bandwidths = center_freqs / Q\n",
    "\n",
    "pitch_filterbank = dict()\n",
    "\n",
    "for p, cur_center_freq, cur_sr, cur_nyquist, cur_bw in zip(midi_pitches[midi_min:midi_max+1], center_freqs[midi_min:midi_max+1], fs_pitch[midi_min:midi_max+1], nyquist[midi_min:midi_max+1], filter_bandwidths):\n",
    "    passband_freqs = [cur_center_freq - cur_bw / 2, cur_center_freq + cur_bw / 2] / cur_nyquist\n",
    "    stopband_freqs = [cur_center_freq - cur_bw, cur_center_freq + cur_bw] / cur_nyquist\n",
    "\n",
    "    cur_filter = scipy.signal.iirdesign(passband_freqs, stopband_freqs,\n",
    "                                        passband_ripple, stopband_attenuation,\n",
    "                                        analog=False, ftype='ellip', output='ba')\n",
    "    pitch_filterbank[p] = cur_filter"
   ]
  },
  {
   "cell_type": "markdown",
   "metadata": {},
   "source": [
    "Some parameters:"
   ]
  },
  {
   "cell_type": "code",
   "execution_count": 4,
   "metadata": {
    "collapsed": false
   },
   "outputs": [],
   "source": [
    "fs_index = np.zeros(128, dtype='int') # index per midi pitch\n",
    "fs_index[20:59] = 2\n",
    "fs_index[59:95] = 1\n",
    "fs_index[95:120] = 0\n",
    "\n",
    "window_size     = np.array([101, 41, 21])\n",
    "down_step       = np.array([50, 10, 10])\n",
    "samples_per_sec = np.array([22050, 4410, 882]) / down_step\n",
    "cut_off         = np.array([1/down_step[0], 1/down_step[1], 0.05])\n",
    "res_fac         = np.array([50, 50, 250])\n",
    "win_lengths     = np.array([100, 100, 50]) # window lengths for local maximum in peak picking for fs=22050, fs=4410, fs=882\n",
    "\n",
    "f_peaks = dict() # the final onset features"
   ]
  },
  {
   "cell_type": "markdown",
   "metadata": {},
   "source": [
    "Load Audio and resample into three bands:"
   ]
  },
  {
   "cell_type": "code",
   "execution_count": 5,
   "metadata": {
    "collapsed": false
   },
   "outputs": [],
   "source": [
    "y, fs = librosa.load('../data/Systematic_Scale-C-Major_Meinard_fast.wav')\n",
    "pcm_ds = dict()\n",
    "pcm_ds[0] = y\n",
    "pcm_ds[1] = scipy.signal.decimate(pcm_ds[0], 5, zero_phase=True)\n",
    "pcm_ds[2] = scipy.signal.decimate(pcm_ds[1], 5, zero_phase=True)"
   ]
  },
  {
   "cell_type": "markdown",
   "metadata": {},
   "source": [
    "Loop over pitches and compute f_peaks;"
   ]
  },
  {
   "cell_type": "code",
   "execution_count": 6,
   "metadata": {
    "collapsed": false
   },
   "outputs": [],
   "source": [
    "f_peaks_num = 0\n",
    "\n",
    "for p in range(midi_min, midi_max+1):\n",
    "    index = fs_index[p]\n",
    "    b, a = pitch_filterbank[p]\n",
    "    f_filtfilt = scipy.signal.filtfilt(b, a, pcm_ds[index])\n",
    "    ws = window_size[index]\n",
    "    ds = down_step[index]\n",
    "    \n",
    "    # local energy curve\n",
    "    f_square = f_filtfilt ** 2\n",
    "    window = np.hanning(ws)\n",
    "    f_energy = scipy.signal.upfirdn(window,f_square,1,ds)\n",
    "    delay = int(np.floor((ws-1)/(ds*2)))\n",
    "    energy_len = int(np.floor(len(f_filtfilt)/ds))\n",
    "    f_energy = f_energy[delay:delay+energy_len]\n",
    "    \n",
    "    # further smoothing of energy curve\n",
    "    if (cut_off[index] < 0.01) or (cut_off[index] > 0.98):\n",
    "        raise RuntimeError('cut off frequency too small or too large')\n",
    "    Wp = cut_off[index]\n",
    "    n, Wn = scipy.signal.cheb2ord(Wp, Wp+0.01, 1, 20)\n",
    "    b, a = scipy.signal.cheby2(n, 20, Wn)\n",
    "    f_energy = scipy.signal.filtfilt(b, a, f_energy)\n",
    "    \n",
    "    # discrete differentation and halfwave rectifying\n",
    "    f_onset = np.diff(f_energy)\n",
    "    f_onset = f_onset * (f_onset>0)\n",
    "    \n",
    "    # compute f_peaks using a local threshold method\n",
    "    # normalization of samples with respect to fs = 22050\n",
    "    f_len = len(f_onset);\n",
    "    win_len = win_lengths[index]\n",
    "    sample_first = 0\n",
    "    thresh = np.zeros(f_len)\n",
    "    while sample_first < f_len:\n",
    "        sample_last = min(sample_first + win_len - 1, f_len - 1)\n",
    "        win_max = np.max(f_onset[sample_first:sample_last])\n",
    "        thr = 2 * win_max / 3\n",
    "        thresh[sample_first:sample_last+1] = np.repeat(thr, sample_last - sample_first + 1)\n",
    "        sample_first = sample_first + win_len\n",
    "        \n",
    "    res = res_fac[index]\n",
    "    res_center = int(np.ceil(res / 2))\n",
    "    \n",
    "    this_peaks = peaks(f_onset, 1, thresh)\n",
    "    this_onsets = f_onset[this_peaks] if len(this_peaks) != 0 else np.array([])\n",
    "    this_peaks = this_peaks * res - res_center\n",
    "    this_peaks = this_peaks * 1000 / 22050 # convert to time in ms\n",
    "\n",
    "    f_peaks[p] = (this_peaks, this_onsets) # (onset time, onset value)\n",
    "    f_peaks_num += len(this_peaks)"
   ]
  },
  {
   "cell_type": "markdown",
   "metadata": {},
   "source": [
    "Visualize pitch onset features."
   ]
  },
  {
   "cell_type": "code",
   "execution_count": 7,
   "metadata": {
    "collapsed": false
   },
   "outputs": [
    {
     "data": {
      "image/png": "[encoded data removed]",
      "text/plain": [
       "<matplotlib.figure.Figure at 0x7f16071c4da0>"
      ]
     },
     "metadata": {},
     "output_type": "display_data"
    }
   ],
   "source": [
    "plt.figure(figsize=(8,8/1.61803398875))\n",
    "plt.subplot(2,1,1)\n",
    "time = y.size/fs\n",
    "\n",
    "max_onset = np.max(np.concatenate([onset for time, onset in f_peaks.values()]))\n",
    "\n",
    "for key in f_peaks.keys():\n",
    "    for i in range(f_peaks[key][0].size):\n",
    "        plt.scatter(f_peaks[key][0][i]/1000, key, c='k', alpha=f_peaks[key][1][i]/max_onset)\n",
    "plt.xlim([0, time])\n",
    "plt.xlabel('Time (seconds)')\n",
    "plt.ylabel('Pitch')\n",
    "plt.title('Pitch-onset-features')\n",
    "        \n",
    "plt.subplot(2,1,2)\n",
    "t = np.arange(0, y.size)/fs\n",
    "plt.plot(t, y)\n",
    "plt.xlim([0, time])\n",
    "plt.xlabel('Time (seconds)')\n",
    "plt.ylabel('Amplitude')\n",
    "plt.title('Waveform')\n",
    "\n",
    "plt.tight_layout()\n"
   ]
  },
  {
   "cell_type": "code",
   "execution_count": null,
   "metadata": {
    "collapsed": true
   },
   "outputs": [],
   "source": []
  }
 ],
 "metadata": {
  "anaconda-cloud": {},
  "kernelspec": {
   "display_name": "Python [default]",
   "language": "python",
   "name": "python3"
  },
  "language_info": {
   "codemirror_mode": {
    "name": "ipython",
    "version": 3
   },
   "file_extension": ".py",
   "mimetype": "text/x-python",
   "name": "python",
   "nbconvert_exporter": "python",
   "pygments_lexer": "ipython3",
   "version": "3.5.2"
  }
 },
 "nbformat": 4,
 "nbformat_minor": 0
}
